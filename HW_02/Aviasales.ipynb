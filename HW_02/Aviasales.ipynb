{
 "cells": [
  {
   "cell_type": "code",
   "execution_count": 1,
   "metadata": {},
   "outputs": [],
   "source": [
    "import requests\n",
    "import json\n",
    "import pandas as pd"
   ]
  },
  {
   "cell_type": "code",
   "execution_count": 2,
   "metadata": {},
   "outputs": [
    {
     "name": "stdout",
     "output_type": "stream",
     "text": [
      "Ведите откуда и куда летим   из москвы в томск\n"
     ]
    }
   ],
   "source": [
    "service = 'https://www.travelpayouts.com/widgets_suggest_params?'\n",
    "search = input('Ведите откуда и куда летим   ')\n",
    "link = f'{service}q={search}'\n"
   ]
  },
  {
   "cell_type": "code",
   "execution_count": 3,
   "metadata": {},
   "outputs": [],
   "source": [
    "req = requests.get(link)\n",
    "data = json.loads(req.text)"
   ]
  },
  {
   "cell_type": "code",
   "execution_count": 4,
   "metadata": {},
   "outputs": [
    {
     "data": {
      "text/plain": [
       "{'origin': {'iata': 'MOW', 'name': 'Москва'},\n",
       " 'destination': {'iata': 'TOF', 'name': 'Томск'}}"
      ]
     },
     "execution_count": 4,
     "metadata": {},
     "output_type": "execute_result"
    }
   ],
   "source": [
    "data"
   ]
  },
  {
   "cell_type": "code",
   "execution_count": 5,
   "metadata": {
    "scrolled": true
   },
   "outputs": [],
   "source": [
    "service = 'http://min-prices.aviasales.ru/calendar_preload?'\n",
    "fromCity = data['origin']['iata']\n",
    "toCity = data['destination']['iata']\n",
    "link = f'{service}origin={fromCity}&destination={toCity}&one_way=true'\n",
    "req = requests.get(link)\n",
    "data1 = json.loads(req.text)"
   ]
  },
  {
   "cell_type": "code",
   "execution_count": 6,
   "metadata": {},
   "outputs": [],
   "source": [
    "df = pd.DataFrame(data1['best_prices'], columns=({'depart_date', 'origin',\n",
    "                                                  'destination', 'distance', 'gate',  'value'}))\\\n",
    "        .rename(columns=({'depart_date': 'Дата вылета',\n",
    "        'origin':'Из',\n",
    "        'destination':'В',\n",
    "        'distance':'Расстояние',\n",
    "        'gate':'Перевозчик',\n",
    "        'value':'Стоимость'}))"
   ]
  },
  {
   "cell_type": "code",
   "execution_count": 7,
   "metadata": {},
   "outputs": [],
   "source": [
    "df['В'] = data['destination']['name']\n",
    "df['Из'] = data['origin']['name']"
   ]
  },
  {
   "cell_type": "code",
   "execution_count": 8,
   "metadata": {},
   "outputs": [],
   "source": [
    "df = df[['Дата вылета', 'Из', 'В', 'Стоимость', 'Перевозчик','Расстояние']]"
   ]
  },
  {
   "cell_type": "code",
   "execution_count": 16,
   "metadata": {},
   "outputs": [
    {
     "data": {
      "text/html": [
       "<div>\n",
       "<style scoped>\n",
       "    .dataframe tbody tr th:only-of-type {\n",
       "        vertical-align: middle;\n",
       "    }\n",
       "\n",
       "    .dataframe tbody tr th {\n",
       "        vertical-align: top;\n",
       "    }\n",
       "\n",
       "    .dataframe thead th {\n",
       "        text-align: right;\n",
       "    }\n",
       "</style>\n",
       "<table border=\"1\" class=\"dataframe\">\n",
       "  <thead>\n",
       "    <tr style=\"text-align: right;\">\n",
       "      <th></th>\n",
       "      <th>Дата вылета</th>\n",
       "      <th>Из</th>\n",
       "      <th>В</th>\n",
       "      <th>Стоимость</th>\n",
       "      <th>Перевозчик</th>\n",
       "      <th>Расстояние</th>\n",
       "    </tr>\n",
       "  </thead>\n",
       "  <tbody>\n",
       "    <tr>\n",
       "      <th>0</th>\n",
       "      <td>2019-12-20</td>\n",
       "      <td>Москва</td>\n",
       "      <td>Томск</td>\n",
       "      <td>3991.0</td>\n",
       "      <td>Kiwi.com</td>\n",
       "      <td>2880</td>\n",
       "    </tr>\n",
       "    <tr>\n",
       "      <th>1</th>\n",
       "      <td>2019-10-19</td>\n",
       "      <td>Москва</td>\n",
       "      <td>Томск</td>\n",
       "      <td>3100.0</td>\n",
       "      <td>Pobeda</td>\n",
       "      <td>2880</td>\n",
       "    </tr>\n",
       "    <tr>\n",
       "      <th>2</th>\n",
       "      <td>2020-01-30</td>\n",
       "      <td>Москва</td>\n",
       "      <td>Томск</td>\n",
       "      <td>4632.0</td>\n",
       "      <td>Kiwi.com</td>\n",
       "      <td>2880</td>\n",
       "    </tr>\n",
       "    <tr>\n",
       "      <th>3</th>\n",
       "      <td>2019-09-05</td>\n",
       "      <td>Москва</td>\n",
       "      <td>Томск</td>\n",
       "      <td>5600.0</td>\n",
       "      <td>Pobeda</td>\n",
       "      <td>2880</td>\n",
       "    </tr>\n",
       "    <tr>\n",
       "      <th>4</th>\n",
       "      <td>2020-01-02</td>\n",
       "      <td>Москва</td>\n",
       "      <td>Томск</td>\n",
       "      <td>7669.0</td>\n",
       "      <td>S7</td>\n",
       "      <td>2880</td>\n",
       "    </tr>\n",
       "  </tbody>\n",
       "</table>\n",
       "</div>"
      ],
      "text/plain": [
       "  Дата вылета      Из      В  Стоимость Перевозчик  Расстояние\n",
       "0  2019-12-20  Москва  Томск     3991.0   Kiwi.com        2880\n",
       "1  2019-10-19  Москва  Томск     3100.0     Pobeda        2880\n",
       "2  2020-01-30  Москва  Томск     4632.0   Kiwi.com        2880\n",
       "3  2019-09-05  Москва  Томск     5600.0     Pobeda        2880\n",
       "4  2020-01-02  Москва  Томск     7669.0         S7        2880"
      ]
     },
     "execution_count": 16,
     "metadata": {},
     "output_type": "execute_result"
    }
   ],
   "source": [
    "df.head()"
   ]
  },
  {
   "cell_type": "code",
   "execution_count": 10,
   "metadata": {},
   "outputs": [
    {
     "data": {
      "text/html": [
       "<div>\n",
       "<style scoped>\n",
       "    .dataframe tbody tr th:only-of-type {\n",
       "        vertical-align: middle;\n",
       "    }\n",
       "\n",
       "    .dataframe tbody tr th {\n",
       "        vertical-align: top;\n",
       "    }\n",
       "\n",
       "    .dataframe thead th {\n",
       "        text-align: right;\n",
       "    }\n",
       "</style>\n",
       "<table border=\"1\" class=\"dataframe\">\n",
       "  <thead>\n",
       "    <tr style=\"text-align: right;\">\n",
       "      <th></th>\n",
       "      <th>Дата вылета</th>\n",
       "      <th>Из</th>\n",
       "      <th>В</th>\n",
       "      <th>Стоимость</th>\n",
       "      <th>Перевозчик</th>\n",
       "      <th>Расстояние</th>\n",
       "    </tr>\n",
       "  </thead>\n",
       "  <tbody>\n",
       "    <tr>\n",
       "      <th>1</th>\n",
       "      <td>2019-10-19</td>\n",
       "      <td>Москва</td>\n",
       "      <td>Томск</td>\n",
       "      <td>3100.0</td>\n",
       "      <td>Pobeda</td>\n",
       "      <td>2880</td>\n",
       "    </tr>\n",
       "    <tr>\n",
       "      <th>7</th>\n",
       "      <td>2019-10-23</td>\n",
       "      <td>Москва</td>\n",
       "      <td>Томск</td>\n",
       "      <td>3100.0</td>\n",
       "      <td>Pobeda</td>\n",
       "      <td>2880</td>\n",
       "    </tr>\n",
       "    <tr>\n",
       "      <th>17</th>\n",
       "      <td>2019-10-14</td>\n",
       "      <td>Москва</td>\n",
       "      <td>Томск</td>\n",
       "      <td>3100.0</td>\n",
       "      <td>Pobeda</td>\n",
       "      <td>2880</td>\n",
       "    </tr>\n",
       "    <tr>\n",
       "      <th>72</th>\n",
       "      <td>2019-10-15</td>\n",
       "      <td>Москва</td>\n",
       "      <td>Томск</td>\n",
       "      <td>3100.0</td>\n",
       "      <td>Pobeda</td>\n",
       "      <td>2880</td>\n",
       "    </tr>\n",
       "    <tr>\n",
       "      <th>76</th>\n",
       "      <td>2019-10-25</td>\n",
       "      <td>Москва</td>\n",
       "      <td>Томск</td>\n",
       "      <td>3100.0</td>\n",
       "      <td>Pobeda</td>\n",
       "      <td>2880</td>\n",
       "    </tr>\n",
       "    <tr>\n",
       "      <th>85</th>\n",
       "      <td>2019-10-21</td>\n",
       "      <td>Москва</td>\n",
       "      <td>Томск</td>\n",
       "      <td>3100.0</td>\n",
       "      <td>Pobeda</td>\n",
       "      <td>2880</td>\n",
       "    </tr>\n",
       "    <tr>\n",
       "      <th>93</th>\n",
       "      <td>2019-10-20</td>\n",
       "      <td>Москва</td>\n",
       "      <td>Томск</td>\n",
       "      <td>3100.0</td>\n",
       "      <td>Pobeda</td>\n",
       "      <td>2880</td>\n",
       "    </tr>\n",
       "    <tr>\n",
       "      <th>95</th>\n",
       "      <td>2019-10-16</td>\n",
       "      <td>Москва</td>\n",
       "      <td>Томск</td>\n",
       "      <td>3100.0</td>\n",
       "      <td>Pobeda</td>\n",
       "      <td>2880</td>\n",
       "    </tr>\n",
       "    <tr>\n",
       "      <th>124</th>\n",
       "      <td>2019-10-13</td>\n",
       "      <td>Москва</td>\n",
       "      <td>Томск</td>\n",
       "      <td>3100.0</td>\n",
       "      <td>Pobeda</td>\n",
       "      <td>2880</td>\n",
       "    </tr>\n",
       "    <tr>\n",
       "      <th>127</th>\n",
       "      <td>2019-10-17</td>\n",
       "      <td>Москва</td>\n",
       "      <td>Томск</td>\n",
       "      <td>3100.0</td>\n",
       "      <td>Pobeda</td>\n",
       "      <td>2880</td>\n",
       "    </tr>\n",
       "    <tr>\n",
       "      <th>144</th>\n",
       "      <td>2019-10-22</td>\n",
       "      <td>Москва</td>\n",
       "      <td>Томск</td>\n",
       "      <td>3100.0</td>\n",
       "      <td>Pobeda</td>\n",
       "      <td>2880</td>\n",
       "    </tr>\n",
       "    <tr>\n",
       "      <th>161</th>\n",
       "      <td>2019-10-24</td>\n",
       "      <td>Москва</td>\n",
       "      <td>Томск</td>\n",
       "      <td>3100.0</td>\n",
       "      <td>Pobeda</td>\n",
       "      <td>2880</td>\n",
       "    </tr>\n",
       "    <tr>\n",
       "      <th>193</th>\n",
       "      <td>2019-10-18</td>\n",
       "      <td>Москва</td>\n",
       "      <td>Томск</td>\n",
       "      <td>3100.0</td>\n",
       "      <td>Pobeda</td>\n",
       "      <td>2880</td>\n",
       "    </tr>\n",
       "  </tbody>\n",
       "</table>\n",
       "</div>"
      ],
      "text/plain": [
       "    Дата вылета      Из      В  Стоимость Перевозчик  Расстояние\n",
       "1    2019-10-19  Москва  Томск     3100.0     Pobeda        2880\n",
       "7    2019-10-23  Москва  Томск     3100.0     Pobeda        2880\n",
       "17   2019-10-14  Москва  Томск     3100.0     Pobeda        2880\n",
       "72   2019-10-15  Москва  Томск     3100.0     Pobeda        2880\n",
       "76   2019-10-25  Москва  Томск     3100.0     Pobeda        2880\n",
       "85   2019-10-21  Москва  Томск     3100.0     Pobeda        2880\n",
       "93   2019-10-20  Москва  Томск     3100.0     Pobeda        2880\n",
       "95   2019-10-16  Москва  Томск     3100.0     Pobeda        2880\n",
       "124  2019-10-13  Москва  Томск     3100.0     Pobeda        2880\n",
       "127  2019-10-17  Москва  Томск     3100.0     Pobeda        2880\n",
       "144  2019-10-22  Москва  Томск     3100.0     Pobeda        2880\n",
       "161  2019-10-24  Москва  Томск     3100.0     Pobeda        2880\n",
       "193  2019-10-18  Москва  Томск     3100.0     Pobeda        2880"
      ]
     },
     "execution_count": 10,
     "metadata": {},
     "output_type": "execute_result"
    }
   ],
   "source": [
    "df.loc[df['Стоимость'] == df['Стоимость'].min()]"
   ]
  },
  {
   "cell_type": "code",
   "execution_count": 13,
   "metadata": {
    "scrolled": true
   },
   "outputs": [
    {
     "data": {
      "image/png": "[encoded data removed]",
      "text/plain": [
       "<Figure size 432x288 with 1 Axes>"
      ]
     },
     "metadata": {
      "needs_background": "light"
     },
     "output_type": "display_data"
    }
   ],
   "source": [
    "df['Стоимость'].hist();"
   ]
  },
  {
   "cell_type": "code",
   "execution_count": 14,
   "metadata": {},
   "outputs": [
    {
     "data": {
      "text/html": [
       "<div>\n",
       "<style scoped>\n",
       "    .dataframe tbody tr th:only-of-type {\n",
       "        vertical-align: middle;\n",
       "    }\n",
       "\n",
       "    .dataframe tbody tr th {\n",
       "        vertical-align: top;\n",
       "    }\n",
       "\n",
       "    .dataframe thead th {\n",
       "        text-align: right;\n",
       "    }\n",
       "</style>\n",
       "<table border=\"1\" class=\"dataframe\">\n",
       "  <thead>\n",
       "    <tr style=\"text-align: right;\">\n",
       "      <th></th>\n",
       "      <th>Дата вылета</th>\n",
       "      <th>Из</th>\n",
       "      <th>В</th>\n",
       "      <th>Стоимость</th>\n",
       "      <th>Перевозчик</th>\n",
       "      <th>Расстояние</th>\n",
       "    </tr>\n",
       "  </thead>\n",
       "  <tbody>\n",
       "    <tr>\n",
       "      <th>42</th>\n",
       "      <td>2020-08-01</td>\n",
       "      <td>Москва</td>\n",
       "      <td>Томск</td>\n",
       "      <td>65256.0</td>\n",
       "      <td>Trip.ru</td>\n",
       "      <td>2880</td>\n",
       "    </tr>\n",
       "  </tbody>\n",
       "</table>\n",
       "</div>"
      ],
      "text/plain": [
       "   Дата вылета      Из      В  Стоимость Перевозчик  Расстояние\n",
       "42  2020-08-01  Москва  Томск    65256.0    Trip.ru        2880"
      ]
     },
     "execution_count": 14,
     "metadata": {},
     "output_type": "execute_result"
    }
   ],
   "source": [
    "df.loc[df['Стоимость'] == df['Стоимость'].max()]"
   ]
  }
 ],
 "metadata": {
  "kernelspec": {
   "display_name": "Python 3",
   "language": "python",
   "name": "python3"
  },
  "language_info": {
   "codemirror_mode": {
    "name": "ipython",
    "version": 3
   },
   "file_extension": ".py",
   "mimetype": "text/x-python",
   "name": "python",
   "nbconvert_exporter": "python",
   "pygments_lexer": "ipython3",
   "version": "3.7.3"
  },
  "toc": {
   "base_numbering": 1,
   "nav_menu": {},
   "number_sections": true,
   "sideBar": true,
   "skip_h1_title": false,
   "title_cell": "Table of Contents",
   "title_sidebar": "Contents",
   "toc_cell": false,
   "toc_position": {},
   "toc_section_display": true,
   "toc_window_display": false
  }
 },
 "nbformat": 4,
 "nbformat_minor": 2
}
