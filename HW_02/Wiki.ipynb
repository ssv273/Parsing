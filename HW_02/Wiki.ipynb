{
 "cells": [
  {
   "cell_type": "code",
   "execution_count": 1,
   "metadata": {},
   "outputs": [],
   "source": [
    "import requests\n",
    "import re\n",
    "import urllib.request\n",
    "from pprint import pprint"
   ]
  },
  {
   "cell_type": "code",
   "execution_count": 2,
   "metadata": {},
   "outputs": [],
   "source": [
    "def get_link(link):\n",
    "    html_content = requests.get(link)\n",
    "    html_content.encoding = html_content.apparent_encoding\n",
    "    html_content = html_content.text\n",
    "    words_list_ru = re.findall(\"[а-яА-Я]{3,}\",html_content)\n",
    "    words_list_eng = re.findall(\"[a-zA-Z]{3,}\",html_content)\n",
    "    if len(words_list_ru) == 0:\n",
    "        words_list = words_list_eng\n",
    "    else:\n",
    "        words_list = words_list_ru\n",
    "    rate={}\n",
    "    for word in words_list:\n",
    "        if word in rate:\n",
    "            rate[word]+=1\n",
    "        else:\n",
    "            rate[word]=1\n",
    "    rate_list = list(rate.items())\n",
    "    rate_list.sort(key = lambda x: -x[1])\n",
    "    for i in range(len(rate_list)):\n",
    "        rate_list[i] = str(rate_list[i])\n",
    "    return rate_list"
   ]
  },
  {
   "cell_type": "code",
   "execution_count": 3,
   "metadata": {},
   "outputs": [],
   "source": [
    "def get_link_wiki(topic):\n",
    "        link='https://ru.wikipedia.org/wiki/'+topic.capitalize()\n",
    "        return link"
   ]
  },
  {
   "cell_type": "code",
   "execution_count": 4,
   "metadata": {},
   "outputs": [],
   "source": [
    "def get_topic_page(topic):\n",
    "    link = get_link_wiki(topic)\n",
    "    html = requests.get(link).text\n",
    "    return html"
   ]
  },
  {
   "cell_type": "code",
   "execution_count": 5,
   "metadata": {},
   "outputs": [],
   "source": [
    "def get_ref(topic):\n",
    "    a = get_topic_page(topic)\n",
    "    begin = a.find('<li><a rel=\"nofollow\" class=\"external text\"')\n",
    "#     begin = a.find('id=\"Ссылки\"')\n",
    "    a = a[begin:]    \n",
    "    end = a.find('/ul')\n",
    "    target = a[:end]\n",
    "    r = re.findall('(?<=href=\")http.*?(?=\")', target)\n",
    "    return r if len(r)>0 else print('Ссылки не найдены')"
   ]
  },
  {
   "cell_type": "code",
   "execution_count": 6,
   "metadata": {
    "scrolled": false
   },
   "outputs": [
    {
     "data": {
      "text/plain": [
       "['http://transspot.ru/2013/05/31/pro-derevya-na-ulicax/',\n",
       " 'http://ec-dejavu.ru/d/Derevo.html',\n",
       " 'http://www.maleus.ru/index.php/news/129-tree',\n",
       " 'http://www.na.fs.fed.us/spfo/pubs/silvics_manual/table_of_contents.htm',\n",
       " 'http://hort.ifas.ufl.edu/woody/']"
      ]
     },
     "execution_count": 6,
     "metadata": {},
     "output_type": "execute_result"
    }
   ],
   "source": [
    "refs = get_ref('Дерево')\n",
    "refs"
   ]
  },
  {
   "cell_type": "code",
   "execution_count": 7,
   "metadata": {
    "scrolled": false
   },
   "outputs": [],
   "source": [
    "number = 1\n",
    "for link in refs:\n",
    "    name = 'Link_'+ str(number) + '.txt'\n",
    "    if len(get_link(link))>0:\n",
    "        with open ('parced_pages/'+name, 'w', encoding='utf-8') as f:\n",
    "            f.writelines(get_link(link))\n",
    "        number +=1"
   ]
  },
  {
   "cell_type": "code",
   "execution_count": null,
   "metadata": {},
   "outputs": [],
   "source": []
  },
  {
   "cell_type": "code",
   "execution_count": null,
   "metadata": {},
   "outputs": [],
   "source": []
  }
 ],
 "metadata": {
  "kernelspec": {
   "display_name": "Python 3",
   "language": "python",
   "name": "python3"
  },
  "language_info": {
   "codemirror_mode": {
    "name": "ipython",
    "version": 3
   },
   "file_extension": ".py",
   "mimetype": "text/x-python",
   "name": "python",
   "nbconvert_exporter": "python",
   "pygments_lexer": "ipython3",
   "version": "3.7.3"
  },
  "toc": {
   "base_numbering": 1,
   "nav_menu": {},
   "number_sections": true,
   "sideBar": true,
   "skip_h1_title": false,
   "title_cell": "Table of Contents",
   "title_sidebar": "Contents",
   "toc_cell": false,
   "toc_position": {},
   "toc_section_display": true,
   "toc_window_display": false
  }
 },
 "nbformat": 4,
 "nbformat_minor": 2
}
