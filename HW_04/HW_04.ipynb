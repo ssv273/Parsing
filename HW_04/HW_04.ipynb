{
 "cells": [
  {
   "cell_type": "code",
   "execution_count": 1,
   "metadata": {},
   "outputs": [],
   "source": [
    "from bs4 import BeautifulSoup as bs\n",
    "import requests\n",
    "import pandas as pd\n",
    "from tqdm import tqdm\n",
    "import re\n",
    "from pprint import pprint"
   ]
  },
  {
   "cell_type": "code",
   "execution_count": 2,
   "metadata": {},
   "outputs": [],
   "source": [
    "from pymongo import MongoClient\n",
    "client = MongoClient('mongodb://127.0.0.1:27017')\n",
    "db = client['vacancydb']\n",
    "vacancydb = db.vacancydb"
   ]
  },
  {
   "cell_type": "code",
   "execution_count": 3,
   "metadata": {},
   "outputs": [
    {
     "name": "stdout",
     "output_type": "stream",
     "text": [
      "Очистить базу перед использованием?  [y/n]y\n"
     ]
    },
    {
     "name": "stderr",
     "output_type": "stream",
     "text": [
      "/home/ssv/anaconda3/lib/python3.7/site-packages/ipykernel_launcher.py:3: DeprecationWarning: remove is deprecated. Use delete_one or delete_many instead.\n",
      "  This is separate from the ipykernel package so we can avoid doing imports until\n"
     ]
    }
   ],
   "source": [
    "answer = input('Очистить базу перед использованием?  [y/n]')\n",
    "if answer == 'y':\n",
    "    vacancydb.remove()"
   ]
  },
  {
   "cell_type": "code",
   "execution_count": 4,
   "metadata": {},
   "outputs": [],
   "source": [
    "headers = {'Accept': '*/*',\n",
    "           'User-Agent': 'Mozilla/5.0 (X11; Ubuntu; Linu…) Gecko/20100101 Firefox/67.0'}"
   ]
  },
  {
   "cell_type": "code",
   "execution_count": 5,
   "metadata": {},
   "outputs": [
    {
     "name": "stdout",
     "output_type": "stream",
     "text": [
      "Сколько страниц надо запросить   3\n"
     ]
    }
   ],
   "source": [
    "pages = int(input('Сколько страниц надо запросить   '))"
   ]
  },
  {
   "cell_type": "code",
   "execution_count": 6,
   "metadata": {
    "scrolled": true
   },
   "outputs": [
    {
     "name": "stdout",
     "output_type": "stream",
     "text": [
      "Какой язык?      Java\n"
     ]
    }
   ],
   "source": [
    "language = input('Какой язык?      ')"
   ]
  },
  {
   "cell_type": "markdown",
   "metadata": {},
   "source": [
    "### HH.RU"
   ]
  },
  {
   "cell_type": "code",
   "execution_count": 7,
   "metadata": {
    "scrolled": true
   },
   "outputs": [
    {
     "name": "stderr",
     "output_type": "stream",
     "text": [
      "  0%|          | 0/3 [00:00<?, ?it/s]/home/ssv/anaconda3/lib/python3.7/site-packages/ipykernel_launcher.py:29: DeprecationWarning: insert is deprecated. Use insert_one or insert_many instead.\n",
      "100%|██████████| 3/3 [00:10<00:00,  3.73s/it]\n"
     ]
    }
   ],
   "source": [
    "df_list = []\n",
    "for i in tqdm(range(pages)):\n",
    "    vacancy = pd.DataFrame(columns=['Название вакансии', 'Зарплата', 'Ссылка'])\n",
    "    headers = {'Accept': '*/*',\n",
    "               'User-Agent': 'Mozilla/5.0 (X11; Ubuntu; Linux x86_64; rv:67.0) Gecko/20100101 Firefox/67.0'}\n",
    "    html = requests.get('https://hh.ru/search/vacancy?area=1&clusters=true&enable_snippets=true&\\\n",
    "    search_field=name&text=%D0%9F%D1%80%D0%BE%D0%B3%D1%80%D0%B0%D0%BC%D0%BC%D0%B8%D1%81%D1%82'\n",
    "                        + language + '&page=' + str(i), headers=headers).text\n",
    "    soup = bs(html, 'html.parser')\n",
    "    divs = soup.find_all('div', attrs={'data-qa': ['vacancy-serp__vacancy',\n",
    "                                                   'vacancy-serp__vacancy vacancy-serp__vacancy_premium']})\n",
    "    for div in divs:\n",
    "        title = div.find(\n",
    "            'a', attrs={'data-qa': 'vacancy-serp__vacancy-title'}).text\n",
    "        href = div.find(\n",
    "            'a', attrs={'data-qa': 'vacancy-serp__vacancy-title'})['href']\n",
    "        salary = div.find(\n",
    "            'div', attrs={'class': 'vacancy-serp-item__sidebar'}).text\n",
    "        tmp_salary = re.findall(r'\\b\\d+\\b',salary)\n",
    "        min_salary = ''\n",
    "        max_salary = ''\n",
    "        if len(tmp_salary)>0:\n",
    "            min_salary = int(tmp_salary[0] + tmp_salary[1])\n",
    "        if len(tmp_salary)>3:\n",
    "            max_salary = int(tmp_salary[2] + tmp_salary[3])\n",
    "\n",
    "\n",
    "        vacancydb.insert({'Название вакансии': title,'min_salary':min_salary,\n",
    "                          'max_salary':max_salary, 'Сайт':'hh.ru', 'Ссылка': href})\n"
   ]
  },
  {
   "cell_type": "markdown",
   "metadata": {},
   "source": [
    "### SuperJob"
   ]
  },
  {
   "cell_type": "code",
   "execution_count": 8,
   "metadata": {},
   "outputs": [],
   "source": [
    "if language =='':\n",
    "    language = input('Для сайта superjob необходимо указать язык программирования для вакансии      ')"
   ]
  },
  {
   "cell_type": "code",
   "execution_count": 9,
   "metadata": {},
   "outputs": [
    {
     "name": "stderr",
     "output_type": "stream",
     "text": [
      "  0%|          | 0/3 [00:00<?, ?it/s]/home/ssv/anaconda3/lib/python3.7/site-packages/ipykernel_launcher.py:25: DeprecationWarning: insert is deprecated. Use insert_one or insert_many instead.\n",
      "100%|██████████| 3/3 [00:17<00:00,  5.82s/it]\n"
     ]
    }
   ],
   "source": [
    "for i in tqdm(range(pages)):\n",
    "    vacancy = pd.DataFrame(columns= ['Название вакансии', 'Зарплата', 'Ссылка'])\n",
    "    headers = {'Accept': '*/*',\n",
    "           'User-Agent': 'Mozilla/5.0 (X11; Ubuntu; Linux x86_64; rv:67.0) Gecko/20100101 Firefox/67.0'}\n",
    "    html = requests.get('https://www.superjob.ru/vakansii/programmist-' + language + '.html?geo[c][0]=1&page=' + str(i+1),\\\n",
    "                        headers=headers).text\n",
    "    soup = bs(html, 'lxml')\n",
    "    divs = soup.find_all('div', attrs={'class':'_3zucV _2GPIV i6-sc _3VcZr'})\n",
    "    for div in divs:\n",
    "        title = div.find('div', attrs={'class':'_3mfro CuJz5 PlM3e _2JVkc _3LJqf'}).text\n",
    "        start = str(div).find('<div class=\"_2g1F-\"><a')\n",
    "        tmp = str(div)[start:]\n",
    "        str_1 = tmp[:tmp.find('target=\"_blank\">')]\n",
    "        href = 'https://www.superjob.ru' + re.findall('href=\"(.+)\"', str_1)[0]\n",
    "        salary = div.find('span', attrs={'class':'_3mfro _2Wp8I f-test-text-company-item-salary PlM3e _2JVkc _2VHxz'})\\\n",
    "        .text.replace(u'\\xa0', ' ')\n",
    "        tmp_salary = re.findall(r'\\b\\d+\\b',salary)\n",
    "        min_salary = ''\n",
    "        max_salary = ''\n",
    "        if len(tmp_salary)>0:\n",
    "            min_salary = int(tmp_salary[0] + tmp_salary[1])\n",
    "        if len(tmp_salary)>3:\n",
    "            max_salary = int(tmp_salary[2] + tmp_salary[3])\n",
    "        vacancydb.insert({'Название вакансии': title,'min_salary':min_salary,\n",
    "                          'max_salary':max_salary,'Сайт': 'superjob.ru',  'Ссылка': href})\n"
   ]
  },
  {
   "cell_type": "code",
   "execution_count": 10,
   "metadata": {
    "scrolled": true
   },
   "outputs": [
    {
     "name": "stdout",
     "output_type": "stream",
     "text": [
      "Показать вакансии с зарплатой от 100000\n"
     ]
    }
   ],
   "source": [
    "payment = int(input('Показать вакансии с зарплатой от '))"
   ]
  },
  {
   "cell_type": "code",
   "execution_count": 11,
   "metadata": {
    "scrolled": true
   },
   "outputs": [
    {
     "name": "stdout",
     "output_type": "stream",
     "text": [
      "{'_id': ObjectId('5d5bc0e324fc55da3db0fdaa'),\n",
      " 'max_salary': '',\n",
      " 'min_salary': 120000,\n",
      " 'Название вакансии': 'Java-разработчик',\n",
      " 'Сайт': 'hh.ru',\n",
      " 'Ссылка': 'https://novosibirsk.hh.ru/vacancy/33108761?query=%D0%BF%D1%80%D0%BE%D0%B3%D1%80%D0%B0%D0%BC%D0%BC%D0%B8%D1%81%D1%82%20java'}\n",
      "{'_id': ObjectId('5d5bc0e324fc55da3db0fdab'),\n",
      " 'max_salary': '',\n",
      " 'min_salary': 200000,\n",
      " 'Название вакансии': 'Senior java developer',\n",
      " 'Сайт': 'hh.ru',\n",
      " 'Ссылка': 'https://novosibirsk.hh.ru/vacancy/32893126?query=%D0%BF%D1%80%D0%BE%D0%B3%D1%80%D0%B0%D0%BC%D0%BC%D0%B8%D1%81%D1%82%20java'}\n",
      "{'_id': ObjectId('5d5bc0e324fc55da3db0fdac'),\n",
      " 'max_salary': '',\n",
      " 'min_salary': 150000,\n",
      " 'Название вакансии': 'Специалист по тестированию',\n",
      " 'Сайт': 'hh.ru',\n",
      " 'Ссылка': 'https://novosibirsk.hh.ru/vacancy/32349434?query=%D0%BF%D1%80%D0%BE%D0%B3%D1%80%D0%B0%D0%BC%D0%BC%D0%B8%D1%81%D1%82%20java'}\n",
      "{'_id': ObjectId('5d5bc0e324fc55da3db0fdad'),\n",
      " 'max_salary': '',\n",
      " 'min_salary': 150000,\n",
      " 'Название вакансии': 'Big Data Engineer',\n",
      " 'Сайт': 'hh.ru',\n",
      " 'Ссылка': 'https://novosibirsk.hh.ru/vacancy/32182817?query=%D0%BF%D1%80%D0%BE%D0%B3%D1%80%D0%B0%D0%BC%D0%BC%D0%B8%D1%81%D1%82%20java'}\n",
      "{'_id': ObjectId('5d5bc0e324fc55da3db0fdb0'),\n",
      " 'max_salary': '',\n",
      " 'min_salary': 230000,\n",
      " 'Название вакансии': 'JavaScript разработчик (ДИТ HR)',\n",
      " 'Сайт': 'hh.ru',\n",
      " 'Ссылка': 'https://novosibirsk.hh.ru/vacancy/32379189?query=%D0%BF%D1%80%D0%BE%D0%B3%D1%80%D0%B0%D0%BC%D0%BC%D0%B8%D1%81%D1%82%20java'}\n",
      "{'_id': ObjectId('5d5bc0e324fc55da3db0fdb1'),\n",
      " 'max_salary': '',\n",
      " 'min_salary': 230000,\n",
      " 'Название вакансии': 'Backend разработчик Java (ДИТ HR)',\n",
      " 'Сайт': 'hh.ru',\n",
      " 'Ссылка': 'https://novosibirsk.hh.ru/vacancy/32377870?query=%D0%BF%D1%80%D0%BE%D0%B3%D1%80%D0%B0%D0%BC%D0%BC%D0%B8%D1%81%D1%82%20java'}\n",
      "{'_id': ObjectId('5d5bc0e324fc55da3db0fdb5'),\n",
      " 'max_salary': '',\n",
      " 'min_salary': 200000,\n",
      " 'Название вакансии': 'Senior Software Developer (new product for QA)',\n",
      " 'Сайт': 'hh.ru',\n",
      " 'Ссылка': 'https://novosibirsk.hh.ru/vacancy/31891023?query=%D0%BF%D1%80%D0%BE%D0%B3%D1%80%D0%B0%D0%BC%D0%BC%D0%B8%D1%81%D1%82%20java'}\n",
      "{'_id': ObjectId('5d5bc0e324fc55da3db0fdb8'),\n",
      " 'max_salary': '',\n",
      " 'min_salary': 180000,\n",
      " 'Название вакансии': 'Middle Android разработчик',\n",
      " 'Сайт': 'hh.ru',\n",
      " 'Ссылка': 'https://novosibirsk.hh.ru/vacancy/32843145?query=%D0%BF%D1%80%D0%BE%D0%B3%D1%80%D0%B0%D0%BC%D0%BC%D0%B8%D1%81%D1%82%20java'}\n",
      "{'_id': ObjectId('5d5bc0e324fc55da3db0fdbb'),\n",
      " 'max_salary': '',\n",
      " 'min_salary': 120000,\n",
      " 'Название вакансии': 'Бэкенд-разработчик (Ruby on Rails)',\n",
      " 'Сайт': 'hh.ru',\n",
      " 'Ссылка': 'https://novosibirsk.hh.ru/vacancy/31712815?query=%D0%BF%D1%80%D0%BE%D0%B3%D1%80%D0%B0%D0%BC%D0%BC%D0%B8%D1%81%D1%82%20java'}\n",
      "{'_id': ObjectId('5d5bc0e324fc55da3db0fdbc'),\n",
      " 'max_salary': '',\n",
      " 'min_salary': 180000,\n",
      " 'Название вакансии': 'Back-end разработчик',\n",
      " 'Сайт': 'hh.ru',\n",
      " 'Ссылка': 'https://novosibirsk.hh.ru/vacancy/32917526?query=%D0%BF%D1%80%D0%BE%D0%B3%D1%80%D0%B0%D0%BC%D0%BC%D0%B8%D1%81%D1%82%20java'}\n",
      "{'_id': ObjectId('5d5bc0e324fc55da3db0fdbd'),\n",
      " 'max_salary': '',\n",
      " 'min_salary': 160000,\n",
      " 'Название вакансии': 'Frontend Developer React',\n",
      " 'Сайт': 'hh.ru',\n",
      " 'Ссылка': 'https://novosibirsk.hh.ru/vacancy/33128634?query=%D0%BF%D1%80%D0%BE%D0%B3%D1%80%D0%B0%D0%BC%D0%BC%D0%B8%D1%81%D1%82%20java'}\n",
      "{'_id': ObjectId('5d5bc0e624fc55da3db0fdbe'),\n",
      " 'max_salary': '',\n",
      " 'min_salary': 160000,\n",
      " 'Название вакансии': 'Frontend Developer React',\n",
      " 'Сайт': 'hh.ru',\n",
      " 'Ссылка': 'https://novosibirsk.hh.ru/vacancy/33128634?query=%D0%BF%D1%80%D0%BE%D0%B3%D1%80%D0%B0%D0%BC%D0%BC%D0%B8%D1%81%D1%82%20java'}\n",
      "{'_id': ObjectId('5d5bc0e624fc55da3db0fdc0'),\n",
      " 'max_salary': '',\n",
      " 'min_salary': 220000,\n",
      " 'Название вакансии': 'Middle/Senior Android-разработчик',\n",
      " 'Сайт': 'hh.ru',\n",
      " 'Ссылка': 'https://novosibirsk.hh.ru/vacancy/32920724?query=%D0%BF%D1%80%D0%BE%D0%B3%D1%80%D0%B0%D0%BC%D0%BC%D0%B8%D1%81%D1%82%20java'}\n",
      "{'_id': ObjectId('5d5bc0e624fc55da3db0fdc1'),\n",
      " 'max_salary': 200000,\n",
      " 'min_salary': 150000,\n",
      " 'Название вакансии': 'Kotlin/Java developer',\n",
      " 'Сайт': 'hh.ru',\n",
      " 'Ссылка': 'https://novosibirsk.hh.ru/vacancy/32840809?query=%D0%BF%D1%80%D0%BE%D0%B3%D1%80%D0%B0%D0%BC%D0%BC%D0%B8%D1%81%D1%82%20java'}\n",
      "{'_id': ObjectId('5d5bc0e624fc55da3db0fdc6'),\n",
      " 'max_salary': '',\n",
      " 'min_salary': 150000,\n",
      " 'Название вакансии': 'Разработчик Bitrix24',\n",
      " 'Сайт': 'hh.ru',\n",
      " 'Ссылка': 'https://novosibirsk.hh.ru/vacancy/32660461?query=%D0%BF%D1%80%D0%BE%D0%B3%D1%80%D0%B0%D0%BC%D0%BC%D0%B8%D1%81%D1%82%20java'}\n",
      "{'_id': ObjectId('5d5bc0e624fc55da3db0fdcf'),\n",
      " 'max_salary': '',\n",
      " 'min_salary': 120000,\n",
      " 'Название вакансии': 'Java-разработчик',\n",
      " 'Сайт': 'hh.ru',\n",
      " 'Ссылка': 'https://novosibirsk.hh.ru/vacancy/33125316?query=%D0%BF%D1%80%D0%BE%D0%B3%D1%80%D0%B0%D0%BC%D0%BC%D0%B8%D1%81%D1%82%20java'}\n",
      "{'_id': ObjectId('5d5bc0e624fc55da3db0fdd1'),\n",
      " 'max_salary': '',\n",
      " 'min_salary': 180000,\n",
      " 'Название вакансии': 'Senior Back-end разработчик',\n",
      " 'Сайт': 'hh.ru',\n",
      " 'Ссылка': 'https://novosibirsk.hh.ru/vacancy/32526249?query=%D0%BF%D1%80%D0%BE%D0%B3%D1%80%D0%B0%D0%BC%D0%BC%D0%B8%D1%81%D1%82%20java'}\n",
      "{'_id': ObjectId('5d5bc0ea24fc55da3db0fdd2'),\n",
      " 'max_salary': 200000,\n",
      " 'min_salary': 120000,\n",
      " 'Название вакансии': 'Ведущий разработчик Java/JavaScript',\n",
      " 'Сайт': 'hh.ru',\n",
      " 'Ссылка': 'https://novosibirsk.hh.ru/vacancy/32461139?query=%D0%BF%D1%80%D0%BE%D0%B3%D1%80%D0%B0%D0%BC%D0%BC%D0%B8%D1%81%D1%82%20java'}\n",
      "{'_id': ObjectId('5d5bc0ea24fc55da3db0fdd4'),\n",
      " 'max_salary': '',\n",
      " 'min_salary': 150000,\n",
      " 'Название вакансии': 'Android разработчик',\n",
      " 'Сайт': 'hh.ru',\n",
      " 'Ссылка': 'https://novosibirsk.hh.ru/vacancy/32741912?query=%D0%BF%D1%80%D0%BE%D0%B3%D1%80%D0%B0%D0%BC%D0%BC%D0%B8%D1%81%D1%82%20java'}\n",
      "{'_id': ObjectId('5d5bc0ea24fc55da3db0fde0'),\n",
      " 'max_salary': '',\n",
      " 'min_salary': 150000,\n",
      " 'Название вакансии': 'Разработчик приложений для платформы Android (Android '\n",
      "                      'Developer)',\n",
      " 'Сайт': 'hh.ru',\n",
      " 'Ссылка': 'https://novosibirsk.hh.ru/vacancy/32423810?query=%D0%BF%D1%80%D0%BE%D0%B3%D1%80%D0%B0%D0%BC%D0%BC%D0%B8%D1%81%D1%82%20java'}\n",
      "{'_id': ObjectId('5d5bc0ea24fc55da3db0fde2'),\n",
      " 'max_salary': 250000,\n",
      " 'min_salary': 180000,\n",
      " 'Название вакансии': 'Java/Kotlin Developer',\n",
      " 'Сайт': 'hh.ru',\n",
      " 'Ссылка': 'https://novosibirsk.hh.ru/vacancy/32697273?query=%D0%BF%D1%80%D0%BE%D0%B3%D1%80%D0%B0%D0%BC%D0%BC%D0%B8%D1%81%D1%82%20java'}\n",
      "{'_id': ObjectId('5d5bc0f024fc55da3db0fde7'),\n",
      " 'max_salary': '',\n",
      " 'min_salary': 115000,\n",
      " 'Название вакансии': 'Ведущий инженер по автоматизации тестирования / Senior '\n",
      "                      'Test Automation Engineer (Java)',\n",
      " 'Сайт': 'superjob.ru',\n",
      " 'Ссылка': 'https://www.superjob.ru/vakansii/veduschij-inzhener-po-avtomatizacii-testirovaniya-31173321.html'}\n",
      "{'_id': ObjectId('5d5bc0f024fc55da3db0fdf3'),\n",
      " 'max_salary': '',\n",
      " 'min_salary': 170000,\n",
      " 'Название вакансии': 'Инженер-разработчик (backend)',\n",
      " 'Сайт': 'superjob.ru',\n",
      " 'Ссылка': 'https://www.superjob.ru/vakansii/inzhener-razrabotchik-32323418.html'}\n",
      "{'_id': ObjectId('5d5bc0f024fc55da3db0fdf6'),\n",
      " 'max_salary': 160000,\n",
      " 'min_salary': 110000,\n",
      " 'Название вакансии': 'Ведущий инженер-программист',\n",
      " 'Сайт': 'superjob.ru',\n",
      " 'Ссылка': 'https://www.superjob.ru/vakansii/veduschij-inzhener-programmist-32397518.html'}\n",
      "{'_id': ObjectId('5d5bc0f024fc55da3db0fdf9'),\n",
      " 'max_salary': 180000,\n",
      " 'min_salary': 130000,\n",
      " 'Название вакансии': 'Team Lead / Ведущий инженер-программист',\n",
      " 'Сайт': 'superjob.ru',\n",
      " 'Ссылка': 'https://www.superjob.ru/vakansii/team-lead-32396642.html'}\n",
      "{'_id': ObjectId('5d5bc0f024fc55da3db0fdff'),\n",
      " 'max_salary': '',\n",
      " 'min_salary': 220000,\n",
      " 'Название вакансии': 'Программист Java',\n",
      " 'Сайт': 'superjob.ru',\n",
      " 'Ссылка': 'https://www.superjob.ru/vakansii/programmist-java-32022982.html'}\n",
      "{'_id': ObjectId('5d5bc0f024fc55da3db0fe00'),\n",
      " 'max_salary': '',\n",
      " 'min_salary': 170000,\n",
      " 'Название вакансии': 'Middle Java developer',\n",
      " 'Сайт': 'superjob.ru',\n",
      " 'Ссылка': 'https://www.superjob.ru/vakansii/middle-java-developer-32353900.html'}\n",
      "{'_id': ObjectId('5d5bc0f524fc55da3db0fe05'),\n",
      " 'max_salary': '',\n",
      " 'min_salary': 115000,\n",
      " 'Название вакансии': 'Ведущий инженер по автоматизации тестирования / Senior '\n",
      "                      'Test Automation Engineer (Java)',\n",
      " 'Сайт': 'superjob.ru',\n",
      " 'Ссылка': 'https://www.superjob.ru/vakansii/veduschij-inzhener-po-avtomatizacii-testirovaniya-31173321.html'}\n",
      "{'_id': ObjectId('5d5bc0f524fc55da3db0fe11'),\n",
      " 'max_salary': '',\n",
      " 'min_salary': 170000,\n",
      " 'Название вакансии': 'Инженер-разработчик (backend)',\n",
      " 'Сайт': 'superjob.ru',\n",
      " 'Ссылка': 'https://www.superjob.ru/vakansii/inzhener-razrabotchik-32323418.html'}\n",
      "{'_id': ObjectId('5d5bc0f524fc55da3db0fe14'),\n",
      " 'max_salary': 160000,\n",
      " 'min_salary': 110000,\n",
      " 'Название вакансии': 'Ведущий инженер-программист',\n",
      " 'Сайт': 'superjob.ru',\n",
      " 'Ссылка': 'https://www.superjob.ru/vakansii/veduschij-inzhener-programmist-32397518.html'}\n",
      "{'_id': ObjectId('5d5bc0f524fc55da3db0fe17'),\n",
      " 'max_salary': 180000,\n",
      " 'min_salary': 130000,\n",
      " 'Название вакансии': 'Team Lead / Ведущий инженер-программист',\n",
      " 'Сайт': 'superjob.ru',\n",
      " 'Ссылка': 'https://www.superjob.ru/vakansii/team-lead-32396642.html'}\n",
      "{'_id': ObjectId('5d5bc0fb24fc55da3db0fe19'),\n",
      " 'max_salary': '',\n",
      " 'min_salary': 115000,\n",
      " 'Название вакансии': 'Ведущий инженер по автоматизации тестирования / Senior '\n",
      "                      'Test Automation Engineer (Java)',\n",
      " 'Сайт': 'superjob.ru',\n",
      " 'Ссылка': 'https://www.superjob.ru/vakansii/veduschij-inzhener-po-avtomatizacii-testirovaniya-31173321.html'}\n",
      "{'_id': ObjectId('5d5bc0fb24fc55da3db0fe25'),\n",
      " 'max_salary': '',\n",
      " 'min_salary': 170000,\n",
      " 'Название вакансии': 'Инженер-разработчик (backend)',\n",
      " 'Сайт': 'superjob.ru',\n",
      " 'Ссылка': 'https://www.superjob.ru/vakansii/inzhener-razrabotchik-32323418.html'}\n",
      "{'_id': ObjectId('5d5bc0fb24fc55da3db0fe28'),\n",
      " 'max_salary': 160000,\n",
      " 'min_salary': 110000,\n",
      " 'Название вакансии': 'Ведущий инженер-программист',\n",
      " 'Сайт': 'superjob.ru',\n",
      " 'Ссылка': 'https://www.superjob.ru/vakansii/veduschij-inzhener-programmist-32397518.html'}\n",
      "{'_id': ObjectId('5d5bc0fb24fc55da3db0fe2b'),\n",
      " 'max_salary': 180000,\n",
      " 'min_salary': 130000,\n",
      " 'Название вакансии': 'Team Lead / Ведущий инженер-программист',\n",
      " 'Сайт': 'superjob.ru',\n",
      " 'Ссылка': 'https://www.superjob.ru/vakansii/team-lead-32396642.html'}\n",
      "{'_id': ObjectId('5d5bc0fb24fc55da3db0fe31'),\n",
      " 'max_salary': '',\n",
      " 'min_salary': 220000,\n",
      " 'Название вакансии': 'Программист Java',\n",
      " 'Сайт': 'superjob.ru',\n",
      " 'Ссылка': 'https://www.superjob.ru/vakansii/programmist-java-32022982.html'}\n",
      "{'_id': ObjectId('5d5bc0fb24fc55da3db0fe32'),\n",
      " 'max_salary': '',\n",
      " 'min_salary': 170000,\n",
      " 'Название вакансии': 'Middle Java developer',\n",
      " 'Сайт': 'superjob.ru',\n",
      " 'Ссылка': 'https://www.superjob.ru/vakansii/middle-java-developer-32353900.html'}\n"
     ]
    }
   ],
   "source": [
    "objects = vacancydb.find({'min_salary':{'$gt':payment}})\n",
    "for i in objects:\n",
    "    pprint(i)"
   ]
  },
  {
   "cell_type": "code",
   "execution_count": null,
   "metadata": {},
   "outputs": [],
   "source": []
  }
 ],
 "metadata": {
  "kernelspec": {
   "display_name": "Python 3",
   "language": "python",
   "name": "python3"
  },
  "language_info": {
   "codemirror_mode": {
    "name": "ipython",
    "version": 3
   },
   "file_extension": ".py",
   "mimetype": "text/x-python",
   "name": "python",
   "nbconvert_exporter": "python",
   "pygments_lexer": "ipython3",
   "version": "3.7.3"
  },
  "toc": {
   "base_numbering": 1,
   "nav_menu": {},
   "number_sections": true,
   "sideBar": true,
   "skip_h1_title": false,
   "title_cell": "Table of Contents",
   "title_sidebar": "Contents",
   "toc_cell": false,
   "toc_position": {},
   "toc_section_display": true,
   "toc_window_display": false
  }
 },
 "nbformat": 4,
 "nbformat_minor": 2
}
